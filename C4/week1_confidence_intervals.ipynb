{
 "cells": [
  {
   "cell_type": "code",
   "execution_count": 4,
   "metadata": {},
   "outputs": [
    {
     "name": "stdout",
     "output_type": "stream",
     "text": [
      "Low = -0.0188, High = 0.0588\n"
     ]
    }
   ],
   "source": [
    "\n",
    "m = 1.\n",
    "n = 50.\n",
    "w = m/n\n",
    "t = 1.96\n",
    "\n",
    "low  = w - t * ((w * (1 - w)) / n)**0.5\n",
    "high = w + t * ((w * (1 - w)) / n)**0.5\n",
    "\n",
    "print(\"Low = {0}, High = {1}\".format(round(low, 4), round(high, 4)))"
   ]
  },
  {
   "cell_type": "code",
   "execution_count": 7,
   "metadata": {
    "collapsed": true
   },
   "outputs": [],
   "source": [
    "from statsmodels.stats.proportion import proportion_confint as conf_int"
   ]
  },
  {
   "cell_type": "code",
   "execution_count": 12,
   "metadata": {},
   "outputs": [
    {
     "data": {
      "text/plain": [
       "(0.0, 0.05880530708179099)"
      ]
     },
     "execution_count": 12,
     "metadata": {},
     "output_type": "execute_result"
    }
   ],
   "source": [
    "count = 1.\n",
    "nobs = 50.\n",
    "conf_int(count, nobs, alpha=0.05, method='normal')"
   ]
  },
  {
   "cell_type": "code",
   "execution_count": 10,
   "metadata": {},
   "outputs": [],
   "source": [
    "low = round(conf_int(count, nobs, alpha=0.05, method='wilson')[0], 4)"
   ]
  },
  {
   "cell_type": "code",
   "execution_count": 11,
   "metadata": {},
   "outputs": [
    {
     "data": {
      "text/plain": [
       "0.0035"
      ]
     },
     "execution_count": 11,
     "metadata": {},
     "output_type": "execute_result"
    }
   ],
   "source": [
    "low"
   ]
  },
  {
   "cell_type": "code",
   "execution_count": 14,
   "metadata": {},
   "outputs": [
    {
     "data": {
      "text/plain": [
       "752.9536"
      ]
     },
     "execution_count": 14,
     "metadata": {},
     "output_type": "execute_result"
    }
   ],
   "source": [
    "t = 1.96\n",
    "w = 0.02\n",
    "e = 0.01\n",
    "\n",
    "n = (t**2 * 0.02 * 0.98) / e**2\n",
    "round(n, 4)"
   ]
  },
  {
   "cell_type": "code",
   "execution_count": 28,
   "metadata": {},
   "outputs": [
    {
     "data": {
      "text/plain": [
       "2.9677"
      ]
     },
     "execution_count": 28,
     "metadata": {},
     "output_type": "execute_result"
    }
   ],
   "source": [
    "# First question\n",
    "\n",
    "import scipy\n",
    "from scipy.stats import norm\n",
    "z = scipy.stats.norm.ppf(1 - 0.003 / 2.)   \n",
    "round(z, 4)"
   ]
  },
  {
   "cell_type": "markdown",
   "metadata": {},
   "source": [
    "В пятилетнем рандомизированном исследовании Гарвардской медицинской школы 11037 испытуемых через день принимали аспирин, а ещё 11034 — плацебо. Исследование было слепым, то есть, испытуемые не знали, что именно они принимают.\n",
    "\n",
    "За 5 лет инфаркт случился у 104 испытуемых, принимавших аспирин, и у 189 принимавших плацебо.\n",
    "\n",
    "Оцените, насколько вероятность инфаркта снижается при приёме аспирина. Округлите ответ до четырёх знаков после десятичной точки.\n"
   ]
  },
  {
   "cell_type": "code",
   "execution_count": 17,
   "metadata": {},
   "outputs": [
    {
     "data": {
      "text/plain": [
       "0.0077"
      ]
     },
     "execution_count": 17,
     "metadata": {},
     "output_type": "execute_result"
    }
   ],
   "source": [
    "n_asp = 11037.\n",
    "n_pcb = 11034.\n",
    "\n",
    "heart_desease_asp = 104.\n",
    "heart_desease_pcb = 189.\n",
    "\n",
    "pr1 = heart_desease_asp / n_asp\n",
    "pr2 = heart_desease_pcb / n_pcb\n",
    "\n",
    "heart_desease_reduction = pr2 - pr1\n",
    "round(heart_desease_reduction, 4)"
   ]
  },
  {
   "cell_type": "markdown",
   "metadata": {},
   "source": [
    "Постройте теперь 95% доверительный интервал для снижения вероятности инфаркта при приёме аспирина. Чему равна его верхняя граница? Округлите ответ до четырёх знаков после десятичной точки."
   ]
  },
  {
   "cell_type": "code",
   "execution_count": 38,
   "metadata": {},
   "outputs": [],
   "source": [
    "conf_int_asp = proportion_confint(heart_desease_asp, \n",
    "                                  n_asp)\n",
    "conf_int_pcb = proportion_confint(heart_desease_pcb, \n",
    "                                  n_pcb)"
   ]
  },
  {
   "cell_type": "code",
   "execution_count": 39,
   "metadata": {},
   "outputs": [
    {
     "name": "stdout",
     "output_type": "stream",
     "text": [
      "(0.007620422638288568, 0.011225278186210842) (0.014707877106365601, 0.01954987167014337)\n"
     ]
    }
   ],
   "source": [
    "print conf_int_pcb, conf_int_asp\n"
   ]
  },
  {
   "cell_type": "code",
   "execution_count": 42,
   "metadata": {},
   "outputs": [
    {
     "name": "stdout",
     "output_type": "stream",
     "text": [
      "0.0047 0.0107\n"
     ]
    }
   ],
   "source": [
    "import numpy as np\n",
    "\n",
    "alpha = 0.05\n",
    "\n",
    "n_asp = 11037.\n",
    "n_pcb = 11034.\n",
    "\n",
    "heart_desease_asp = 104.\n",
    "heart_desease_pcb = 189.\n",
    "\n",
    "pr2 = heart_desease_asp / n_asp\n",
    "pr1 = heart_desease_pcb / n_pcb\n",
    "\n",
    "z = scipy.stats.norm.ppf(1 - alpha / 2.)   \n",
    "    \n",
    "left_boundary = (pr1 - pr2) - z * np.sqrt(pr1 * (1 - pr1)/ n_pcb + pr2 * (1 - pr2)/ n_asp)\n",
    "right_boundary = (pr1 - pr2) + z * np.sqrt(pr1 * (1 - pr1)/ n_pcb + pr2 * (1 - pr2)/ n_asp)\n",
    "\n",
    "print round(left_boundary, 4), round(right_boundary, 4)"
   ]
  },
  {
   "cell_type": "markdown",
   "metadata": {},
   "source": [
    "Продолжим анализировать данные эксперимента Гарвардской медицинской школы.\n",
    "\n",
    "Для бернуллиевских случайных величин X∼Ber(p) часто вычисляют величину \n",
    "p\n",
    "1\n",
    "−\n",
    "p\n",
    "1−p\n",
    "p\n",
    "​\t , которая называется шансами (odds). Чтобы оценить шансы по выборке, вместо \n",
    "p\n",
    "p нужно подставить p^. Например, шансы инфаркта в контрольной группе, принимавшей плацебо, можно оценить как\n",
    "\n",
    "1\n",
    "8\n",
    "9\n",
    "1\n",
    "1\n",
    "0\n",
    "3\n",
    "4\n",
    "1\n",
    "−\n",
    "1\n",
    "8\n",
    "9\n",
    "1\n",
    "1\n",
    "0\n",
    "3\n",
    "4\n",
    "=\n",
    "1\n",
    "8\n",
    "9\n",
    "1\n",
    "1\n",
    "0\n",
    "3\n",
    "4\n",
    "−\n",
    "1\n",
    "8\n",
    "9\n",
    "≈\n",
    "0\n",
    ".\n",
    "0\n",
    "1\n",
    "7\n",
    "4\n",
    "1− \n",
    "11034\n",
    "189\n",
    "​\t \n",
    "11034\n",
    "189\n",
    "​\t \n",
    "​\t = \n",
    "11034−189\n",
    "189\n",
    "​\t ≈0.0174\n",
    "\n",
    "Оцените, во сколько раз понижаются шансы инфаркта при регулярном приёме аспирина. Округлите ответ до четырёх знаков после десятичной точки."
   ]
  },
  {
   "cell_type": "code",
   "execution_count": 37,
   "metadata": {},
   "outputs": [
    {
     "name": "stdout",
     "output_type": "stream",
     "text": [
      "0.0095 0.0174\n",
      "1.8321\n"
     ]
    }
   ],
   "source": [
    "n_asp = 11037.\n",
    "n_pcb = 11034.\n",
    "\n",
    "heart_desease_asp = 104.\n",
    "heart_desease_pcb = 189.\n",
    "\n",
    "pr1 = heart_desease_asp / n_asp\n",
    "pr2 = heart_desease_pcb / n_pcb\n",
    "\n",
    "odd_asp = pr1 / (1 - pr1)\n",
    "odd_pcb = pr2 / (1 - pr2)\n",
    "print round(odd_asp, 4), round(odd_pcb, 4)\n",
    "print round(odd_pcb / odd_asp, 4)"
   ]
  },
  {
   "cell_type": "code",
   "execution_count": null,
   "metadata": {
    "collapsed": true
   },
   "outputs": [],
   "source": [
    "27\n",
    "3\n"
   ]
  }
 ],
 "metadata": {
  "kernelspec": {
   "display_name": "Python 2",
   "language": "python",
   "name": "python2"
  },
  "language_info": {
   "codemirror_mode": {
    "name": "ipython",
    "version": 2
   },
   "file_extension": ".py",
   "mimetype": "text/x-python",
   "name": "python",
   "nbconvert_exporter": "python",
   "pygments_lexer": "ipython2",
   "version": "2.7.15"
  }
 },
 "nbformat": 4,
 "nbformat_minor": 2
}
