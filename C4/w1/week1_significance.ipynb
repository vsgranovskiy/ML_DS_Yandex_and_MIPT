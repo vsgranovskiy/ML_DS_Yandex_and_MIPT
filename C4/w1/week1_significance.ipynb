{
 "cells": [
  {
   "cell_type": "code",
   "execution_count": 124,
   "metadata": {},
   "outputs": [
    {
     "data": {
      "text/plain": [
       "0.0822"
      ]
     },
     "execution_count": 124,
     "metadata": {},
     "output_type": "execute_result"
    }
   ],
   "source": [
    "p = stats.binom_test(67, 100, 0.75, alternative = 'two-sided')\n",
    "round(p, 4)"
   ]
  },
  {
   "cell_type": "code",
   "execution_count": 21,
   "metadata": {
    "collapsed": true
   },
   "outputs": [],
   "source": [
    "import numpy as np\n",
    "import scipy\n",
    "from scipy import stats\n",
    "from scipy.stats import binned_statistic_2d"
   ]
  },
  {
   "cell_type": "code",
   "execution_count": 30,
   "metadata": {},
   "outputs": [
    {
     "name": "stdout",
     "output_type": "stream",
     "text": [
      "[[18. 14. 12.  8.  7.]\n",
      " [26. 12. 24. 19.  8.]\n",
      " [29. 22. 15. 31. 37.]\n",
      " [25. 34. 50. 50. 27.]\n",
      " [20. 25. 37.  7. 27.]]\n",
      "23.36\n"
     ]
    },
    {
     "data": {
      "text/plain": [
       "array([[18., 14., 12.,  8.,  7.],\n",
       "       [26., 12., 24., 19.,  8.],\n",
       "       [29., 22., 15., 31., 37.],\n",
       "       [25., 34., 50., 50., 27.],\n",
       "       [20., 25., 37.,  7., 27.]])"
      ]
     },
     "execution_count": 30,
     "metadata": {},
     "output_type": "execute_result"
    },
    {
     "data": {
      "image/png": "[encoded data removed]",
      "text/plain": [
       "<Figure size 432x288 with 1 Axes>"
      ]
     },
     "metadata": {
      "needs_background": "light"
     },
     "output_type": "display_data"
    }
   ],
   "source": [
    "from matplotlib import pyplot as plt\n",
    "\n",
    "data = pd.read_csv(\"./pines.txt\", \"\\t\")\n",
    "\n",
    "xbins = []\n",
    "ybins = []\n",
    "for i in range(5):\n",
    "    xbins.append(i*40)\n",
    "ybins = xbins\n",
    "\n",
    "ret = binned_statistic_2d(data['we'],data['sn'],None,'count',bins=5)\n",
    "\n",
    "print(ret.statistic)\n",
    "\n",
    "print ret.statistic.mean()\n",
    "\n",
    "plt.scatter(data['we'],data['sn'], s=2, c='orange')\n",
    "for line in xbins:\n",
    "    plt.axvline(line, color='r')\n",
    "    plt.axhline(line, color='b')\n",
    "\n",
    "plt.xlim(-1, 200)\n",
    "plt.ylim(-1, 200)\n",
    "\n",
    "ret.statistic"
   ]
  },
  {
   "cell_type": "code",
   "execution_count": 27,
   "metadata": {},
   "outputs": [],
   "source": [
    "expected_frequences = np.ones(25)\n",
    "for i in range(25):\n",
    "    expected_frequences[i] = 23.36\n"
   ]
  },
  {
   "cell_type": "code",
   "execution_count": 28,
   "metadata": {
    "collapsed": true
   },
   "outputs": [],
   "source": [
    "observed_frequences = ret.statistic.flatten()"
   ]
  },
  {
   "cell_type": "code",
   "execution_count": 33,
   "metadata": {},
   "outputs": [
    {
     "name": "stdout",
     "output_type": "stream",
     "text": [
      "150.59\n"
     ]
    }
   ],
   "source": [
    "stat = stats.chisquare(observed_frequences, expected_frequences, ddof = 24)\n",
    "\n",
    "print round(stat[0], 2)"
   ]
  },
  {
   "cell_type": "code",
   "execution_count": null,
   "metadata": {
    "collapsed": true
   },
   "outputs": [],
   "source": []
  }
 ],
 "metadata": {
  "kernelspec": {
   "display_name": "Python 2",
   "language": "python",
   "name": "python2"
  },
  "language_info": {
   "codemirror_mode": {
    "name": "ipython",
    "version": 2
   },
   "file_extension": ".py",
   "mimetype": "text/x-python",
   "name": "python",
   "nbconvert_exporter": "python",
   "pygments_lexer": "ipython2",
   "version": "2.7.15"
  }
 },
 "nbformat": 4,
 "nbformat_minor": 2
}
