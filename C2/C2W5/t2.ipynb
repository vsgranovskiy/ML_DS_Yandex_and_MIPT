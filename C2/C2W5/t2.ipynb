{
 "cells": [
  {
   "cell_type": "code",
   "execution_count": 2,
   "metadata": {},
   "outputs": [],
   "source": [
    "%matplotlib inline\n",
    "\n",
    "import random\n",
    "import matplotlib.pyplot as plt\n",
    "import sklearn\n",
    "from sklearn import datasets\n",
    "from sklearn import naive_bayes\n",
    "from sklearn.preprocessing import normalize\n",
    "from sklearn.model_selection import cross_val_score\n",
    "import numpy as np"
   ]
  },
  {
   "cell_type": "code",
   "execution_count": 3,
   "metadata": {
    "collapsed": true
   },
   "outputs": [],
   "source": [
    "digits = datasets.load_digits()\n",
    "cancer = datasets.load_breast_cancer()"
   ]
  },
  {
   "cell_type": "code",
   "execution_count": 5,
   "metadata": {},
   "outputs": [],
   "source": [
    "d_x = digits.data\n",
    "d_y = digits.target\n",
    "\n",
    "c_x = cancer.data\n",
    "c_y = cancer.target"
   ]
  },
  {
   "cell_type": "code",
   "execution_count": 9,
   "metadata": {},
   "outputs": [
    {
     "data": {
      "text/plain": [
       "0.8258236507780582"
      ]
     },
     "execution_count": 9,
     "metadata": {},
     "output_type": "execute_result"
    }
   ],
   "source": [
    "BernoulliNB = naive_bayes.BernoulliNB()\n",
    "cvs_bern_dig = cross_val_score(BernoulliNB, d_x, d_y).mean()\n",
    "cvs_bern_dig"
   ]
  },
  {
   "cell_type": "code",
   "execution_count": 10,
   "metadata": {},
   "outputs": [
    {
     "data": {
      "text/plain": [
       "0.8708771489735053"
      ]
     },
     "execution_count": 10,
     "metadata": {},
     "output_type": "execute_result"
    }
   ],
   "source": [
    "MultinomialNB = naive_bayes.MultinomialNB()\n",
    "cvs_mult_dig = cross_val_score(MultinomialNB, d_x, d_y).mean()\n",
    "cvs_mult_dig"
   ]
  },
  {
   "cell_type": "code",
   "execution_count": 11,
   "metadata": {},
   "outputs": [
    {
     "data": {
      "text/plain": [
       "0.8186003803550138"
      ]
     },
     "execution_count": 11,
     "metadata": {},
     "output_type": "execute_result"
    }
   ],
   "source": [
    "GaussianNB = naive_bayes.GaussianNB()\n",
    "cvs_gau_dig = cross_val_score(GaussianNB, d_x, d_y).mean()\n",
    "cvs_gau_dig"
   ]
  },
  {
   "cell_type": "code",
   "execution_count": 12,
   "metadata": {},
   "outputs": [
    {
     "data": {
      "text/plain": [
       "0.6274204028589994"
      ]
     },
     "execution_count": 12,
     "metadata": {},
     "output_type": "execute_result"
    }
   ],
   "source": [
    "BernoulliNB = naive_bayes.BernoulliNB()\n",
    "cvs_bern_canc = cross_val_score(BernoulliNB, c_x, c_y).mean()\n",
    "cvs_bern_canc"
   ]
  },
  {
   "cell_type": "code",
   "execution_count": 13,
   "metadata": {},
   "outputs": [
    {
     "data": {
      "text/plain": [
       "0.8945790401930752"
      ]
     },
     "execution_count": 13,
     "metadata": {},
     "output_type": "execute_result"
    }
   ],
   "source": [
    "MultinomialNB = naive_bayes.MultinomialNB()\n",
    "cvs_mult_canc = cross_val_score(MultinomialNB, c_x, c_y).mean()\n",
    "cvs_mult_canc"
   ]
  },
  {
   "cell_type": "code",
   "execution_count": 14,
   "metadata": {},
   "outputs": [
    {
     "data": {
      "text/plain": [
       "0.9367492806089297"
      ]
     },
     "execution_count": 14,
     "metadata": {},
     "output_type": "execute_result"
    }
   ],
   "source": [
    "GaussianNB = naive_bayes.GaussianNB()\n",
    "cvs_gau_canc = cross_val_score(GaussianNB, c_x, c_y).mean()\n",
    "cvs_gau_canc"
   ]
  },
  {
   "cell_type": "code",
   "execution_count": 15,
   "metadata": {
    "collapsed": true
   },
   "outputs": [],
   "source": [
    "def write_answer(answ,i):\n",
    "    with open(\"answer\" + str(i) + \".txt\", \"w\") as fout:\n",
    "        fout.write(str(answ))\n",
    "        \n",
    "write_answer(cvs_gau_canc, 1)\n",
    "write_answer(cvs_mult_dig, 2)\n",
    "write_answer(\"3 4\",3)"
   ]
  },
  {
   "cell_type": "code",
   "execution_count": null,
   "metadata": {
    "collapsed": true
   },
   "outputs": [],
   "source": []
  }
 ],
 "metadata": {
  "kernelspec": {
   "display_name": "Python 2",
   "language": "python",
   "name": "python2"
  },
  "language_info": {
   "codemirror_mode": {
    "name": "ipython",
    "version": 2
   },
   "file_extension": ".py",
   "mimetype": "text/x-python",
   "name": "python",
   "nbconvert_exporter": "python",
   "pygments_lexer": "ipython2",
   "version": "2.7.15"
  }
 },
 "nbformat": 4,
 "nbformat_minor": 2
}
