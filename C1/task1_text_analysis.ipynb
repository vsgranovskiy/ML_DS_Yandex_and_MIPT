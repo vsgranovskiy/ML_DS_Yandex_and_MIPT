{
 "cells": [
  {
   "cell_type": "code",
   "execution_count": 326,
   "metadata": {
    "scrolled": true
   },
   "outputs": [],
   "source": [
    "import numpy as np\n",
    "import re\n",
    "import scipy\n",
    "from collections import defaultdict\n",
    "from scipy import spatial"
   ]
  },
  {
   "cell_type": "code",
   "execution_count": null,
   "metadata": {},
   "outputs": [],
   "source": []
  },
  {
   "cell_type": "code",
   "execution_count": 327,
   "metadata": {},
   "outputs": [],
   "source": [
    "file_path = \"/Users/vladimir/Documents/neu/course/text.txt\"\n",
    "sent_file = open(file_path, 'r')"
   ]
  },
  {
   "cell_type": "code",
   "execution_count": 328,
   "metadata": {},
   "outputs": [],
   "source": [
    "lines = []\n",
    "tokenized_lines = []"
   ]
  },
  {
   "cell_type": "code",
   "execution_count": 329,
   "metadata": {},
   "outputs": [],
   "source": [
    "for line in sent_file:\n",
    "    line = line.lower()\n",
    "    lines.append(line)\n",
    "    \n"
   ]
  },
  {
   "cell_type": "code",
   "execution_count": 330,
   "metadata": {},
   "outputs": [],
   "source": [
    "for line in lines:\n",
    "    line = re.split('[^a-z]', line)\n",
    "    tokenized_lines.append(line)\n"
   ]
  },
  {
   "cell_type": "code",
   "execution_count": 331,
   "metadata": {},
   "outputs": [
    {
     "data": {
      "text/plain": [
       "'comparison'"
      ]
     },
     "execution_count": 331,
     "metadata": {},
     "output_type": "execute_result"
    }
   ],
   "source": [
    "tokenized_lines[0][1]"
   ]
  },
  {
   "cell_type": "code",
   "execution_count": 332,
   "metadata": {},
   "outputs": [],
   "source": [
    "for tok_line in tokenized_lines:\n",
    "    i = 0\n",
    "    for word in tok_line:\n",
    "        if word == '':\n",
    "            tok_line.pop(i)\n",
    "            i += 1\n",
    "        else:\n",
    "            i += 1"
   ]
  },
  {
   "cell_type": "code",
   "execution_count": 333,
   "metadata": {},
   "outputs": [],
   "source": [
    "for tok_line in tokenized_lines:\n",
    "    tok_line.pop(len(tok_line) - 1)"
   ]
  },
  {
   "cell_type": "code",
   "execution_count": 334,
   "metadata": {},
   "outputs": [
    {
     "data": {
      "text/plain": [
       "['as',\n",
       " 'cat',\n",
       " 'simply',\n",
       " 'catenates',\n",
       " 'streams',\n",
       " 'of',\n",
       " 'bytes',\n",
       " 'it',\n",
       " 'can',\n",
       " 'be',\n",
       " 'also',\n",
       " 'used',\n",
       " 'to',\n",
       " 'concatenate',\n",
       " 'binary',\n",
       " 'files',\n",
       " 'where',\n",
       " 'it',\n",
       " 'will',\n",
       " 'just',\n",
       " 'concatenate',\n",
       " 'sequence',\n",
       " 'of',\n",
       " 'bytes']"
      ]
     },
     "execution_count": 334,
     "metadata": {},
     "output_type": "execute_result"
    }
   ],
   "source": [
    "tokenized_lines[1]"
   ]
  },
  {
   "cell_type": "code",
   "execution_count": 335,
   "metadata": {},
   "outputs": [],
   "source": [
    "unique_words = defaultdict()"
   ]
  },
  {
   "cell_type": "code",
   "execution_count": 336,
   "metadata": {},
   "outputs": [],
   "source": [
    "i = 0\n",
    "for tok_line in tokenized_lines:\n",
    "    for word in tok_line:\n",
    "        if word not in unique_words.keys() and word != '':\n",
    "            unique_words[word] = i\n",
    "            i += 1"
   ]
  },
  {
   "cell_type": "code",
   "execution_count": 337,
   "metadata": {},
   "outputs": [
    {
     "data": {
      "text/plain": [
       "254"
      ]
     },
     "execution_count": 337,
     "metadata": {},
     "output_type": "execute_result"
    }
   ],
   "source": [
    "len(unique_words)"
   ]
  },
  {
   "cell_type": "code",
   "execution_count": 338,
   "metadata": {},
   "outputs": [],
   "source": [
    "out_matrx = numpy.zeros(shape=(22,254))\n"
   ]
  },
  {
   "cell_type": "code",
   "execution_count": 339,
   "metadata": {},
   "outputs": [
    {
     "data": {
      "text/plain": [
       "0.0"
      ]
     },
     "execution_count": 339,
     "metadata": {},
     "output_type": "execute_result"
    }
   ],
   "source": [
    "out_matrx[2,0]"
   ]
  },
  {
   "cell_type": "code",
   "execution_count": 270,
   "metadata": {},
   "outputs": [],
   "source": [
    "for i in range(22):\n",
    "    out_matrx[i,0] = i"
   ]
  },
  {
   "cell_type": "code",
   "execution_count": 340,
   "metadata": {},
   "outputs": [
    {
     "data": {
      "text/plain": [
       "['displays',\n",
       " 'osx',\n",
       " 'selection',\n",
       " 'safari',\n",
       " 'just',\n",
       " 'developed',\n",
       " 'over',\n",
       " 'vermin',\n",
       " 'domestic',\n",
       " 'named',\n",
       " 'installed',\n",
       " 'symbols',\n",
       " 'through',\n",
       " 'human',\n",
       " 'world',\n",
       " 'disk',\n",
       " 'its',\n",
       " 'fifth',\n",
       " 'features',\n",
       " 'tamed',\n",
       " 'upgrade',\n",
       " 'lb',\n",
       " 'drive',\n",
       " 'to',\n",
       " 'won',\n",
       " 'deliberately',\n",
       " 'marks',\n",
       " 'has',\n",
       " 'predecessor',\n",
       " 'non',\n",
       " 'which',\n",
       " 'read',\n",
       " 'october',\n",
       " 'every',\n",
       " 'os',\n",
       " 'they',\n",
       " 'not',\n",
       " 'during',\n",
       " 'now',\n",
       " 'possess',\n",
       " 'intel',\n",
       " 'keyboards',\n",
       " 'bytes',\n",
       " 'unnecessary',\n",
       " 'patch',\n",
       " 'predators',\n",
       " 'small',\n",
       " 'output',\n",
       " 'entirely',\n",
       " 'where',\n",
       " 'ears',\n",
       " 'available',\n",
       " 'on',\n",
       " 'often',\n",
       " 'sequence',\n",
       " 'some',\n",
       " 'lion',\n",
       " 'frequency',\n",
       " 'are',\n",
       " 'year',\n",
       " 'download',\n",
       " 'terms',\n",
       " 'concern',\n",
       " 'error',\n",
       " 'for',\n",
       " 'pipes',\n",
       " 'since',\n",
       " 'factory',\n",
       " 'artificial',\n",
       " 'content',\n",
       " 'version',\n",
       " 'run',\n",
       " 'between',\n",
       " 'new',\n",
       " 'learned',\n",
       " 'three',\n",
       " 'piped',\n",
       " 'common',\n",
       " 'concatenate',\n",
       " 'be',\n",
       " 'weighing',\n",
       " 'genes',\n",
       " 'use',\n",
       " 'standard',\n",
       " 'release',\n",
       " 'diploid',\n",
       " 'members',\n",
       " 'x',\n",
       " 'based',\n",
       " 'safer',\n",
       " 'by',\n",
       " 'both',\n",
       " 'commands',\n",
       " 'installation',\n",
       " 'installs',\n",
       " 'of',\n",
       " 'needing',\n",
       " 'allows',\n",
       " 'according',\n",
       " 'july',\n",
       " 'later',\n",
       " 'mac',\n",
       " 's',\n",
       " 'streams',\n",
       " 'receives',\n",
       " 'successor',\n",
       " 'catenates',\n",
       " 'changes',\n",
       " 'or',\n",
       " 'felis',\n",
       " 'major',\n",
       " 'faint',\n",
       " 'useful',\n",
       " 'apple',\n",
       " 'app',\n",
       " 'community',\n",
       " 'one',\n",
       " 'running',\n",
       " 'unix',\n",
       " 'right',\n",
       " 'simply',\n",
       " 'linux',\n",
       " 'sounds',\n",
       " 'size',\n",
       " 'undergone',\n",
       " 'delete',\n",
       " 'from',\n",
       " 'enhancements',\n",
       " 'second',\n",
       " 'their',\n",
       " 'create',\n",
       " 'people',\n",
       " 'two',\n",
       " 't',\n",
       " 'redirection',\n",
       " 'however',\n",
       " 'cats',\n",
       " 'too',\n",
       " 'basic',\n",
       " 'permanently',\n",
       " 'type',\n",
       " 'dogs',\n",
       " 'store',\n",
       " 'more',\n",
       " 'files',\n",
       " 'releases',\n",
       " 'that',\n",
       " 'started',\n",
       " 'contains',\n",
       " 'releasing',\n",
       " 'tiger',\n",
       " 'released',\n",
       " 'part',\n",
       " 'hear',\n",
       " 'external',\n",
       " 'editions',\n",
       " 'off',\n",
       " 'mice',\n",
       " 'with',\n",
       " 'than',\n",
       " 'those',\n",
       " 'longer',\n",
       " 'count',\n",
       " 'made',\n",
       " 'animals',\n",
       " 'mavericks',\n",
       " 'versions',\n",
       " 'default',\n",
       " 'was',\n",
       " 'single',\n",
       " 'cat',\n",
       " 'will',\n",
       " 'can',\n",
       " 'were',\n",
       " 'wild',\n",
       " 'similar',\n",
       " 'interactive',\n",
       " 'and',\n",
       " 'mountain',\n",
       " 'computers',\n",
       " 'have',\n",
       " 'stdout',\n",
       " 'process',\n",
       " 'lines',\n",
       " 'is',\n",
       " 'received',\n",
       " 'moved',\n",
       " 'it',\n",
       " 'an',\n",
       " 'high',\n",
       " 'as',\n",
       " 'incremental',\n",
       " 'file',\n",
       " 'in',\n",
       " 'need',\n",
       " 'domesticated',\n",
       " 'any',\n",
       " 'domestication',\n",
       " 'if',\n",
       " 'binary',\n",
       " 'processors',\n",
       " 'no',\n",
       " 'rather',\n",
       " 'legibility',\n",
       " 'separate',\n",
       " 'firmware',\n",
       " 'when',\n",
       " 'mid',\n",
       " 'also',\n",
       " 'other',\n",
       " 'arguments',\n",
       " 'adjacent',\n",
       " 'online',\n",
       " 'instead',\n",
       " 'you',\n",
       " 'ancestor',\n",
       " 'offered',\n",
       " 'used',\n",
       " 'chromosomes',\n",
       " 'closest',\n",
       " 'information',\n",
       " 'may',\n",
       " 'symbol',\n",
       " 'leopard',\n",
       " 'update',\n",
       " 'most',\n",
       " 'wrong',\n",
       " 'connected',\n",
       " 'yosemite',\n",
       " 'such',\n",
       " 'comparison',\n",
       " 'recent',\n",
       " 'a',\n",
       " 'purchase',\n",
       " 'genus',\n",
       " 'kg',\n",
       " 'organisms',\n",
       " 'using',\n",
       " 'starting',\n",
       " 'clear',\n",
       " 'stdin',\n",
       " 'flow',\n",
       " 'roughly',\n",
       " 'so',\n",
       " 'switch',\n",
       " 'without',\n",
       " 'command',\n",
       " 'place',\n",
       " 'allow',\n",
       " 'time',\n",
       " 'redirected',\n",
       " 'the',\n",
       " 'typically',\n",
       " 'left']"
      ]
     },
     "execution_count": 340,
     "metadata": {},
     "output_type": "execute_result"
    }
   ],
   "source": [
    "unique_words.keys()"
   ]
  },
  {
   "cell_type": "code",
   "execution_count": 341,
   "metadata": {},
   "outputs": [],
   "source": [
    "i = 0\n",
    "for tok_line in tokenized_lines:\n",
    "    j = 0\n",
    "    for key in unique_words.keys():\n",
    "        count_words = tok_line.count(key)\n",
    "        out_matrx[i,j] = count_words\n",
    "        j += 1\n",
    "    i += 1"
   ]
  },
  {
   "cell_type": "code",
   "execution_count": 349,
   "metadata": {},
   "outputs": [
    {
     "data": {
      "text/plain": [
       "array([[0., 0., 0., ..., 1., 0., 0.],\n",
       "       [0., 0., 0., ..., 0., 0., 0.],\n",
       "       [0., 0., 0., ..., 1., 0., 0.],\n",
       "       ...,\n",
       "       [0., 0., 0., ..., 2., 0., 0.],\n",
       "       [0., 0., 0., ..., 1., 0., 0.],\n",
       "       [0., 0., 0., ..., 1., 0., 0.]])"
      ]
     },
     "execution_count": 349,
     "metadata": {},
     "output_type": "execute_result"
    }
   ],
   "source": [
    "out_matrx"
   ]
  },
  {
   "cell_type": "code",
   "execution_count": 342,
   "metadata": {},
   "outputs": [],
   "source": [
    "scipy.spatial.distance.cosine(out_matrx[0], out_matrx[1])\n",
    "dist = np.zeros(shape=(22,2))\n",
    "\n",
    "for i in range(22):\n",
    "    dist[i,0] = i\n"
   ]
  },
  {
   "cell_type": "code",
   "execution_count": 343,
   "metadata": {},
   "outputs": [],
   "source": [
    "for i in range(22):\n",
    "    dist[i,1] = scipy.spatial.distance.cosine(out_matrx[0], out_matrx[i])"
   ]
  },
  {
   "cell_type": "code",
   "execution_count": 344,
   "metadata": {},
   "outputs": [
    {
     "data": {
      "text/plain": [
       "array([[ 0.        ,  0.        ],\n",
       "       [ 1.        ,  0.95275444],\n",
       "       [ 2.        ,  0.86447381],\n",
       "       [ 3.        ,  0.89517152],\n",
       "       [ 4.        ,  0.77708871],\n",
       "       [ 5.        ,  0.94023857],\n",
       "       [ 6.        ,  0.73273876],\n",
       "       [ 7.        ,  0.92587507],\n",
       "       [ 8.        ,  0.88427249],\n",
       "       [ 9.        ,  0.90550888],\n",
       "       [10.        ,  0.83281654],\n",
       "       [11.        ,  0.88047714],\n",
       "       [12.        ,  0.83964325],\n",
       "       [13.        ,  0.87035926],\n",
       "       [14.        ,  0.87401184],\n",
       "       [15.        ,  0.94427218],\n",
       "       [16.        ,  0.84063619],\n",
       "       [17.        ,  0.9566445 ],\n",
       "       [18.        ,  0.94427218],\n",
       "       [19.        ,  0.88854436],\n",
       "       [20.        ,  0.84275727],\n",
       "       [21.        ,  0.82503645]])"
      ]
     },
     "execution_count": 344,
     "metadata": {},
     "output_type": "execute_result"
    }
   ],
   "source": [
    "dist"
   ]
  },
  {
   "cell_type": "code",
   "execution_count": 348,
   "metadata": {},
   "outputs": [
    {
     "data": {
      "text/plain": [
       "['os',\n",
       " 'x',\n",
       " 'mountain',\n",
       " 'lion',\n",
       " 'was',\n",
       " 'released',\n",
       " 'on',\n",
       " 'july',\n",
       " '',\n",
       " '',\n",
       " '',\n",
       " '',\n",
       " 'for',\n",
       " 'purchase',\n",
       " 'and',\n",
       " 'download',\n",
       " 'through',\n",
       " 'apple',\n",
       " 's',\n",
       " 'mac',\n",
       " 'app',\n",
       " 'store',\n",
       " 'as',\n",
       " 'part',\n",
       " 'of',\n",
       " 'a',\n",
       " 'switch',\n",
       " 'to',\n",
       " 'releasing',\n",
       " 'os',\n",
       " 'x',\n",
       " 'versions',\n",
       " 'online',\n",
       " 'and',\n",
       " 'every',\n",
       " 'year']"
      ]
     },
     "execution_count": 348,
     "metadata": {},
     "output_type": "execute_result"
    }
   ],
   "source": [
    "tokenized_lines[17]"
   ]
  },
  {
   "cell_type": "code",
   "execution_count": null,
   "metadata": {},
   "outputs": [],
   "source": []
  }
 ],
 "metadata": {
  "kernelspec": {
   "display_name": "Python 2",
   "language": "python",
   "name": "python2"
  },
  "language_info": {
   "codemirror_mode": {
    "name": "ipython",
    "version": 2
   },
   "file_extension": ".py",
   "mimetype": "text/x-python",
   "name": "python",
   "nbconvert_exporter": "python",
   "pygments_lexer": "ipython2",
   "version": "2.7.15"
  }
 },
 "nbformat": 4,
 "nbformat_minor": 2
}
